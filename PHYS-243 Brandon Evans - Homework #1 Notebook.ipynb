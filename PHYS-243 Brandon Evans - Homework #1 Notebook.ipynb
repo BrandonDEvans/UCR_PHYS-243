{
 "cells": [
  {
   "cell_type": "markdown",
   "metadata": {},
   "source": [
    "# PHYS-243 - Spring 2019\n",
    "## Homework 1 - Due 12-Apr-2019\n",
    "#### Dr. Mobasher / TA Abtin Shahidi\n",
    "#### Brandon Evans MSOL"
   ]
  },
  {
   "cell_type": "markdown",
   "metadata": {},
   "source": [
    "### 1.1 - Recursive to Iterative Function"
   ]
  },
  {
   "cell_type": "code",
   "execution_count": 1,
   "metadata": {},
   "outputs": [],
   "source": [
    "#Fibonacci sequence is in the form of preceeding 2-terms' sum form next term:  0,1,1,2,3,5,8,13,21,34,55\n",
    "#This is where F0=0, F1=1, else F(x) = F(x-2)+F(x-1)\n",
    "import numpy as np\n",
    "import time\n",
    "import matplotlib.pyplot as plt\n",
    "\n",
    "def fibrec(n):\n",
    "    if n < 0: raise ValueError('Invalid input value: %d' % n)\n",
    "    if n <= 1:\n",
    "        return n\n",
    "    return fibrec(n-2)+fibrec(n-1)\n",
    "\n",
    "def fibloop(n):\n",
    "    if n < 0: raise ValueError('Invalid input value: %d' % n)\n",
    "    fib_array = np.empty([0],dtype=int)\n",
    "    for i in range(0,n+1):\n",
    "        if i < 2:\n",
    "            #The first two iterations are the basic elements of the Fibanacci sequence, 0 and 1\n",
    "            fib_array = np.append(fib_array,[i],axis=0)\n",
    "        else:\n",
    "            #Accessing previous n elements of array made easy with Python syntax\n",
    "            fib_array = np.append(fib_array,[(fib_array[-1]+fib_array[-2])],axis=0)\n",
    "    return fib_array[-1] #Result is merely the n-1 element calculated if we over-drive FOR loop by 1 element"
   ]
  },
  {
   "cell_type": "markdown",
   "metadata": {},
   "source": [
    "### 1.2 Hypothesis of performance between Recursive (fibrec) and Iterative (fibloop) functions:\n",
    "fibrec(n):  I believe this will be of $O(c^n)$ time due to the recursion required to reach the core elements of the sequence (0 and 1) <br>\n",
    "fibloop(n): I believe this will be of $O(n)$ time due to a single loop of n+1 iterations"
   ]
  },
  {
   "cell_type": "markdown",
   "metadata": {},
   "source": [
    "### Do fibrec() and fibloop() functions agree?"
   ]
  },
  {
   "cell_type": "code",
   "execution_count": 2,
   "metadata": {},
   "outputs": [
    {
     "name": "stdout",
     "output_type": "stream",
     "text": [
      "Functions agree?: True\n"
     ]
    }
   ],
   "source": [
    "def checkFunctionMatch():\n",
    "    for x in range(0, 20):\n",
    "        #print(\"fibrec: %d == %d fibloop\" % (fibrec(x), fibloop(x)))\n",
    "        if fibrec(x) != fibloop(x):\n",
    "            return False\n",
    "        return True\n",
    "print (\"Functions agree?: %s\" % checkFunctionMatch())"
   ]
  },
  {
   "cell_type": "markdown",
   "metadata": {},
   "source": [
    "### 1.3 Function Performance"
   ]
  },
  {
   "cell_type": "code",
   "execution_count": 3,
   "metadata": {},
   "outputs": [
    {
     "name": "stdout",
     "output_type": "stream",
     "text": [
      "Testing 24 steps, 30 cycles:\n",
      "Function <function fibrec at 0x7f99c83626a8> finished in 0.744 secs. Average time: 0.02481 secs\n",
      "Testing 24 steps, 30 cycles:\n",
      "Function <function fibloop at 0x7f999ffabd90> finished in 0.002 secs. Average time: 8e-05 secs\n"
     ]
    }
   ],
   "source": [
    "def func_timer(f,n,k,debug=False):\n",
    "    #Function (f), Fibonacci steps (n), test cycles (k)\n",
    "    if debug:\n",
    "        print(\"Testing %d steps, %d cycles:\" % (n, k))\n",
    "    timer_start = time.time()\n",
    "    for x in range(0,k):\n",
    "        f(n)\n",
    "    elapsed = time.time() - timer_start\n",
    "    avg_time = round(elapsed/k,5)\n",
    "    if debug:\n",
    "        print(\"Function %s finished in %s secs. Average time: %s secs\" % (f,round(elapsed,3),avg_time))\n",
    "    return avg_time\n",
    "\n",
    "#for x in range(0,n):\n",
    "#    fibloop(x)\n",
    "#print(\"fibloop() finished in %s secs\" % round(time.time() - timer_start,3))\n",
    "res = func_timer(fibrec,24,30,1)\n",
    "res = func_timer(fibloop,24,30,1)\n"
   ]
  },
  {
   "cell_type": "markdown",
   "metadata": {},
   "source": [
    "### 1.4 Performance Charts"
   ]
  },
  {
   "cell_type": "code",
   "execution_count": 7,
   "metadata": {},
   "outputs": [
    {
     "data": {
      "image/png": "[encoded data removed]",
      "text/plain": [
       "<Figure size 432x288 with 1 Axes>"
      ]
     },
     "metadata": {
      "needs_background": "light"
     },
     "output_type": "display_data"
    }
   ],
   "source": [
    "def chartPerformance(steps=24):\n",
    "    #Steps are Fibonacci sequence numbers\n",
    "    \n",
    "    #Abtin, I struggled here to make code cleaner, open to your critique.\n",
    "    x= np.empty([steps])\n",
    "    y1 = np.empty([steps])\n",
    "    y2 = np.empty([steps])\n",
    "    \n",
    "    for i in range(0,steps):\n",
    "        x = np.append(x,i)\n",
    "        y1 = np.append(y1, func_timer(fibrec,i,60)) #30 test cycles to stabilize average?\n",
    "        y2 = np.append(y2, func_timer(fibloop,i,60))\n",
    "    \n",
    "    #Generally don't like hard-coding stuff\n",
    "    plt.plot(x,y1, label=\"fibrec\")\n",
    "    plt.plot(x,y2, label=\"fibloop\") \n",
    "    \n",
    "    plt.title(r\"Function Performance\")\n",
    "    plt.xlabel(r\"$n$\")\n",
    "    plt.ylabel(r\"$Average Time (s)$\")\n",
    "    plt.legend()\n",
    "    plt.show()\n",
    "chartPerformance()"
   ]
  },
  {
   "cell_type": "markdown",
   "metadata": {},
   "source": [
    "# Item 2 - Matrix Math"
   ]
  },
  {
   "cell_type": "markdown",
   "metadata": {},
   "source": [
    "##### Given:\n",
    "\n",
    "$$\\begin{align}\n",
    "\\mathbf{M}=\\begin{bmatrix} 1 & -4 & 2 \\\\ -4 & 1 & -2 \\\\ 2 & -2 & -2\n",
    "\\end{bmatrix}\n",
    "\\end{align}$$\n"
   ]
  },
  {
   "cell_type": "markdown",
   "metadata": {},
   "source": [
    "#### 2.1 Find the determinant, transpose, inverse(if exist) for M\n",
    "*Abtin, I couldn't figure out how to left-align text, felt silly that I couldn't find a Latex/Markdown reference for this?\n",
    "\n",
    "##### Determinant:\n",
    "$$\n",
    "|A| = \\mathbf{a}*det\\begin{bmatrix}e & f \\\\ h & i\\end{bmatrix} - \n",
    "\\mathbf{b}*det\\begin{bmatrix}d & f \\\\ g & i\\end{bmatrix} +\n",
    "\\mathbf{c}*det\\begin{bmatrix}d & e \\\\ g & h\\end{bmatrix} \\\\\n",
    "|A| = \\mathbf{1}*det\\begin{bmatrix}1 & -2 \\\\ -2 & -2\\end{bmatrix} - \n",
    "\\mathbf{-4}*det\\begin{bmatrix}-4 & -2 \\\\ 2 & -2\\end{bmatrix} +\n",
    "\\mathbf{2}*det\\begin{bmatrix}-4 & 1 \\\\ 2 & -2\\end{bmatrix} \\\\\n",
    "|A| = (1)*(-6)-(-4)(12)+(2)(6) \\\\\n",
    "\\mathbf{|A|}=54 $$\n",
    "\n",
    "\n",
    "##### Transpose:\n",
    "$$(\\mathbf{M}_{ij})^T = \\mathbf{M}_{ji}$$ <br>\n",
    "$$\\mathbf{M}^T=\\begin{bmatrix} 1 & -4 & 2 \\\\ -4 & 1 & -2 \\\\ 2 & -2 & -2\\end{bmatrix}$$\n",
    "\n",
    "##### Inverse:\n",
    "Use Gauss-Jordan method to reduce matrix to RREF:\n",
    "\n",
    "$$\n",
    "\\mathbf{M}^{-1}_{solve}=\\begin{bmatrix} 1 & -4 & 2 & |1 & 0 & 0 \\\\ -4 & 1 & -2 & |0 & 1 & 0 \\\\ 2 & -2 & -2 & |0 & 0 & 1\n",
    "\\end{bmatrix}\n",
    "$$\n",
    "\n",
    "$$\n",
    "\\mathbf{M}^{-1}_{REF}=\\begin{bmatrix} -4 & 1 & 2 & |0 & 1 & 0 \\\\\n",
    "0 & -3.75 & 1.5 & |1 & 0.25 & 0 \\\\\n",
    "0 & 0 & -3.6 & |-0.4 & 0.4 & 1\n",
    "\\end{bmatrix}\n",
    "$$\n",
    "\n",
    "$$\n",
    "\\mathbf{M}^{-1}_{RREF}=\\begin{bmatrix} 1 & 0 & 0 & | \\frac{-1}{9} & \\frac{-2}{9} & \\frac{1}{9} \\\\\n",
    "0 & 1 & 0 & | \\frac{-2}{9} & \\frac{-1}{9} & \\frac{-1}{9} \\\\\n",
    "0 & 0 & 1 & | \\frac{1}{9} & \\frac{-1}{9} & \\frac{-5}{18}\n",
    "\\end{bmatrix}\n",
    "$$\n",
    "\n",
    "$$\n",
    "\\mathbf{M}^{-1}=\\begin{bmatrix} \\frac{-1}{9} & \\frac{-2}{9} & \\frac{1}{9} \\\\\n",
    "\\frac{-2}{9} & \\frac{-1}{9} & \\frac{-1}{9} \\\\\n",
    "\\frac{1}{9} & \\frac{-1}{9} & \\frac{-5}{18}\n",
    "\\end{bmatrix}\n",
    "$$\n",
    "*Handwritten workup attached below"
   ]
  },
  {
   "cell_type": "markdown",
   "metadata": {},
   "source": [
    "#### 2.2 Find the eigenvalues / eigenvectors\n",
    "Eigenvalues:\n",
    "$$\\lambda = -3, 6 $$\n",
    "\n",
    "Eigenvectors\n",
    "$$\\mathbf{x}$$\n",
    "\n",
    "\n",
    "\n"
   ]
  },
  {
   "cell_type": "markdown",
   "metadata": {},
   "source": [
    "#### 2.3 Find Gradient\n",
    "#### 2.4 Hessian\n",
    "*Attached calculations\n"
   ]
  },
  {
   "cell_type": "markdown",
   "metadata": {},
   "source": [
    "# Item 3 - Questions"
   ]
  },
  {
   "cell_type": "markdown",
   "metadata": {},
   "source": [
    "#### 3.1 Explain the difference between validation and test samples:\n",
    "Validation samples could be construed as a continuation of training, where the validation set is used to adjust parameters in the model, ideally to find the balance of bias vs. variance (e.g. proper fit).  Test samples are used, once the model is finalized, to test the performance against a new set of data, never seen during training, to reflect on how the model will perform in the field."
   ]
  },
  {
   "cell_type": "markdown",
   "metadata": {},
   "source": [
    "#### 3.2 Explain the difference between supervised and unsupervised learning algorithm:\n",
    "Supervised learning is given labeled data, in order to optimize a model to fit.  Unsupervised learning detects patterns, clusters in unlabeled data.  I think of regression-type problems as being supervised, where we give the model some training data to extract features/weights. Unsupervised examples presented in lecture would be that of finding clusters in genetic sequences."
   ]
  },
  {
   "cell_type": "code",
   "execution_count": null,
   "metadata": {},
   "outputs": [],
   "source": []
  }
 ],
 "metadata": {
  "kernelspec": {
   "display_name": "Python 3",
   "language": "python",
   "name": "python3"
  },
  "language_info": {
   "codemirror_mode": {
    "name": "ipython",
    "version": 3
   },
   "file_extension": ".py",
   "mimetype": "text/x-python",
   "name": "python",
   "nbconvert_exporter": "python",
   "pygments_lexer": "ipython3",
   "version": "3.6.8"
  }
 },
 "nbformat": 4,
 "nbformat_minor": 2
}
