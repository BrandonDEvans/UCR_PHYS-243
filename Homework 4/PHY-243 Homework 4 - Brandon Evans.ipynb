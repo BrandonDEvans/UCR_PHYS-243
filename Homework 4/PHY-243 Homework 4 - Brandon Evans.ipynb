{
 "cells": [
  {
   "cell_type": "markdown",
   "metadata": {},
   "source": [
    "## PHYS-243 Spring 2019 - Brandon Evans - Homework 4\n",
    "#### Dr. Mobasher, TA Abtin Shahidi <br> 5-Jun-2019\n",
    "Using code and direction from Abtin's Week 7 Lab Notes:<br>\n",
    "https://abtinshahidi.github.io/teaching/2019-spring-foundation-machine-learning/week7"
   ]
  },
  {
   "cell_type": "code",
   "execution_count": 1,
   "metadata": {
    "scrolled": true
   },
   "outputs": [],
   "source": [
    "#Data science greatest hits\n",
    "import numpy as np\n",
    "import matplotlib as mpl\n",
    "import matplotlib.pyplot as plt\n",
    "import pandas as pd\n",
    "import seaborn as sns\n",
    "\n",
    "from sklearn.preprocessing import LabelEncoder\n",
    "from sklearn.model_selection import train_test_split\n",
    "from sklearn import metrics\n",
    "\n",
    "from scipy.stats import zscore\n",
    "%matplotlib inline"
   ]
  },
  {
   "cell_type": "markdown",
   "metadata": {},
   "source": [
    "## Part 1 - Classifying MNIST '9' Digit\n",
    "1. Find the 9s using K-Nearest neighbours for Minkowski metric of order (1, 2, 3).\n",
    "2. Find the 9s using Decision tree.\n",
    "3. Find the 9s using Random Forests."
   ]
  },
  {
   "cell_type": "markdown",
   "metadata": {},
   "source": [
    "### Get the MNIST dataset"
   ]
  },
  {
   "cell_type": "code",
   "execution_count": 2,
   "metadata": {
    "scrolled": false
   },
   "outputs": [
    {
     "name": "stdout",
     "output_type": "stream",
     "text": [
      "Loaded MNIST_784\n"
     ]
    }
   ],
   "source": [
    "# Downloading the dataset\n",
    "try:\n",
    "    from sklearn.datasets import fetch_openml\n",
    "    mnist = fetch_openml('mnist_784', version=1, cache=True)\n",
    "    mnist.target = mnist.target.astype(np.int8)\n",
    "    mnist.data = mnist.data.astype(np.uint8) #Default was float64\n",
    "    print(\"Loaded MNIST_784\")\n",
    "except ImportError:\n",
    "    from sklearn.datasets import fetch_mldata\n",
    "    print(\"Error getting MNIST_784, reverting to MNIST Original\")\n",
    "    mnist = fetch_mldata('MNIST original')\n",
    "    print(\"Loaded MNIST Original\")"
   ]
  },
  {
   "cell_type": "markdown",
   "metadata": {},
   "source": [
    "### Data Inspect/Clean"
   ]
  },
  {
   "cell_type": "code",
   "execution_count": 47,
   "metadata": {},
   "outputs": [
    {
     "name": "stdout",
     "output_type": "stream",
     "text": [
      "mnist_784\n",
      "https://www.openml.org/d/554\n",
      "Data Shape: (70000, 784)\n",
      "Target Shape: (70000,)\n"
     ]
    }
   ],
   "source": [
    "print(mnist['details']['name'])\n",
    "print(mnist['url'])\n",
    "print(\"Data Shape: {}\".format(mnist['data'].shape))\n",
    "print(\"Target Shape: {}\".format(mnist['target'].shape))"
   ]
  },
  {
   "cell_type": "markdown",
   "metadata": {},
   "source": [
    "It appears like the data is a 70,000 element by 784-pixel image array\n",
    "Target should corresond to the particular image's label, aligned by index between data and target"
   ]
  },
  {
   "cell_type": "code",
   "execution_count": null,
   "metadata": {},
   "outputs": [],
   "source": [
    "print(mnist['DESCR'])"
   ]
  },
  {
   "cell_type": "code",
   "execution_count": null,
   "metadata": {
    "scrolled": true
   },
   "outputs": [],
   "source": [
    "print(\"Data:\")\n",
    "print(mnist[\"data\"][0])\n",
    "print(\"Target:\")\n",
    "print(mnist[\"target\"][0])#Preview some data"
   ]
  },
  {
   "cell_type": "code",
   "execution_count": null,
   "metadata": {},
   "outputs": [],
   "source": [
    "type(mnist[\"data\"][0][0])"
   ]
  },
  {
   "cell_type": "code",
   "execution_count": null,
   "metadata": {
    "scrolled": true
   },
   "outputs": [],
   "source": [
    "#Any suspect records?\n",
    "for i in range(0,len(mnist['data'])):\n",
    "    if mnist['data'][i].sum() <= 0:\n",
    "        print(\"Suspect record at index:{}\".format(i))"
   ]
  },
  {
   "cell_type": "markdown",
   "metadata": {},
   "source": [
    "### Explore the data..."
   ]
  },
  {
   "cell_type": "code",
   "execution_count": 48,
   "metadata": {
    "scrolled": true
   },
   "outputs": [],
   "source": [
    "def showImageByIndex(i):\n",
    "    img = mnist[\"data\"][i].reshape(28, 28)\n",
    "    plt.imshow(img, cmap=mpl.cm.binary)\n",
    "    \n",
    "def previewImages(dataset,rows=3,columns=3,startIndex=-1):\n",
    "    numImages = rows*columns #Respect subplot row/column format\n",
    "    if rows<=0 or columns<=0:\n",
    "        print(\"rows and columns must be > 0\");return\n",
    "    if rows>9 or columns>9:\n",
    "        print(\"rows and columns are limited to 9 max\");return\n",
    "    \n",
    "    if startIndex == -1: #Randomize\n",
    "        selection = np.random.randint(0,len(mnist['data']),numImages)\n",
    "    else:\n",
    "        selection = range(startIndex,(startIndex+numImages))\n",
    "    #Using subplots, like how Abtin did those\n",
    "    j = 1\n",
    "    for i in selection:\n",
    "        img = dataset[i].reshape(28, 28)\n",
    "        plt.subplot(rows,columns,j); plt.imshow(img, cmap=mpl.cm.binary)\n",
    "        plt.text(0, 0, \"Index:{}\".format(i))\n",
    "        j+=1"
   ]
  },
  {
   "cell_type": "code",
   "execution_count": 49,
   "metadata": {},
   "outputs": [
    {
     "data": {
      "image/png": "[encoded data removed]",
      "text/plain": [
       "<Figure size 432x288 with 9 Axes>"
      ]
     },
     "metadata": {
      "needs_background": "light"
     },
     "output_type": "display_data"
    }
   ],
   "source": [
    "previewImages(mnist['data'],3,3)"
   ]
  },
  {
   "cell_type": "code",
   "execution_count": 50,
   "metadata": {
    "scrolled": true
   },
   "outputs": [
    {
     "data": {
      "image/png": "[encoded data removed]",
      "text/plain": [
       "<Figure size 432x288 with 1 Axes>"
      ]
     },
     "metadata": {
      "needs_background": "light"
     },
     "output_type": "display_data"
    }
   ],
   "source": [
    "showImageByIndex(41668)"
   ]
  },
  {
   "cell_type": "code",
   "execution_count": 51,
   "metadata": {},
   "outputs": [
    {
     "data": {
      "image/png": "[encoded data removed]",
      "text/plain": [
       "<Figure size 432x288 with 1 Axes>"
      ]
     },
     "metadata": {
      "needs_background": "light"
     },
     "output_type": "display_data"
    }
   ],
   "source": [
    "showImageByIndex(35410) #Ewwww."
   ]
  },
  {
   "cell_type": "markdown",
   "metadata": {
    "scrolled": true
   },
   "source": [
    "#### Impressions so far\n",
    "* No seemingly incomplete/corrupt images\n",
    "* Some images are pretty poor quality\n",
    "* 70,000 images, 768 pixels each, pixel values were FLOAT64 by default, but appeared to be simple uINT8 grayscale bytes so I changed accordingly\n",
    "* I am intrigued at which algorithm will perform best here. Abtin's SVM performance was impressive with 5000 records!"
   ]
  },
  {
   "cell_type": "markdown",
   "metadata": {
    "scrolled": true
   },
   "source": [
    "### Part 1.1:  Find the 9s using K-Nearest neighbours for Minkowski metric of order (1, 2, 3).\n"
   ]
  },
  {
   "cell_type": "code",
   "execution_count": 52,
   "metadata": {
    "scrolled": true
   },
   "outputs": [],
   "source": [
    "#Let's get only the labeled '9's in the dataset\n",
    "#nineX = np.zeros((0,784),dtype=np.uint8)\n",
    "#nineY = np.zeros(0,dtype=np.int8)\n",
    "nineX = np.copy(mnist['data'])\n",
    "nineY = np.copy(mnist['target'])\n",
    "\n",
    "for i in range(0,len(nineY)):\n",
    "    nineY[i] = 1 if (nineY[i]==9) else 0 #Is a nine or not\n",
    "    \n",
    "#    if mnist['target'][i] == 9:\n",
    "#        _x = np.zeros((1,784),dtype=np.uint8)\n",
    "#        _x = np.array([mnist['data'][i]]) #Double-brackets to add dimension\n",
    "#        _y = mnist['target'][i]\n",
    "#        nineX = np.append(nineX, _x, axis=0)\n",
    "#        nineY = np.append(nineY,_y)"
   ]
  },
  {
   "cell_type": "code",
   "execution_count": 53,
   "metadata": {},
   "outputs": [],
   "source": [
    "#Split dataset\n",
    "TEST_SPLIT = 0.15\n",
    "train_x, test_x, train_y, test_y = train_test_split(nineX, nineY , test_size=TEST_SPLIT)"
   ]
  },
  {
   "cell_type": "code",
   "execution_count": 54,
   "metadata": {},
   "outputs": [
    {
     "name": "stdout",
     "output_type": "stream",
     "text": [
      "0.973047619047619\n"
     ]
    }
   ],
   "source": [
    "from sklearn.neighbors import KNeighborsClassifier\n",
    "knn = KNeighborsClassifier(n_neighbors=21)\n",
    "knn.fit(train_x[:5000], train_y[:5000])\n",
    "accuracy = knn.score(test_x, test_y)\n",
    "print(accuracy)"
   ]
  },
  {
   "cell_type": "markdown",
   "metadata": {},
   "source": [
    "#### Try various neighbors"
   ]
  },
  {
   "cell_type": "code",
   "execution_count": 55,
   "metadata": {
    "scrolled": true
   },
   "outputs": [
    {
     "name": "stdout",
     "output_type": "stream",
     "text": [
      "Best accuracy:0.9741904761904762 Neighbors:3\n"
     ]
    },
    {
     "data": {
      "text/plain": [
       "Text(0, 0.5, 'Accuracy')"
      ]
     },
     "execution_count": 55,
     "metadata": {},
     "output_type": "execute_result"
    },
    {
     "data": {
      "image/png": "[encoded data removed]",
      "text/plain": [
       "<Figure size 432x288 with 1 Axes>"
      ]
     },
     "metadata": {
      "needs_background": "light"
     },
     "output_type": "display_data"
    }
   ],
   "source": [
    "#Let's interate and find best accuracy\n",
    "\n",
    "#WARNING:  Takes a while...\n",
    "\n",
    "best_accr = 0\n",
    "best_neighbor = 0\n",
    "\n",
    "#Set some various neighbors\n",
    "n = np.array([3,7,10,15,21,25])\n",
    "acc = np.zeros(len(n))\n",
    "for i,j in enumerate(n):\n",
    "    knn = KNeighborsClassifier(n_neighbors=j)\n",
    "    knn.fit(train_x[:1000], train_y[:1000])\n",
    "    accuracy = knn.score(test_x, test_y)\n",
    "    acc[i] = accuracy\n",
    "    if accuracy > best_accr:\n",
    "        best_accr = accuracy\n",
    "        best_neighbor = j\n",
    "print(\"Best accuracy:{} Neighbors:{}\".format(best_accr,best_neighbor))\n",
    "plt.plot(n,acc)\n",
    "plt.xlabel(\"Neighbors\")\n",
    "plt.ylabel(\"Accuracy\")"
   ]
  },
  {
   "cell_type": "markdown",
   "metadata": {},
   "source": [
    "#### Try different Minkowski orders"
   ]
  },
  {
   "cell_type": "code",
   "execution_count": 56,
   "metadata": {},
   "outputs": [
    {
     "name": "stdout",
     "output_type": "stream",
     "text": [
      "Best accuracy:0.9438095238095238 Minkowsi Order:2\n"
     ]
    },
    {
     "data": {
      "text/plain": [
       "Text(0, 0.5, 'Accuracy')"
      ]
     },
     "execution_count": 56,
     "metadata": {},
     "output_type": "execute_result"
    },
    {
     "data": {
      "image/png": "[encoded data removed]",
      "text/plain": [
       "<Figure size 432x288 with 1 Axes>"
      ]
     },
     "metadata": {
      "needs_background": "light"
     },
     "output_type": "display_data"
    }
   ],
   "source": [
    "best_accr = 0\n",
    "best_order = 0\n",
    "n = np.array([1,2,3])\n",
    "acc = np.zeros(len(n))\n",
    "for i,j in enumerate(n):\n",
    "    knn = KNeighborsClassifier(n_neighbors=10,p=j)\n",
    "    knn.fit(train_x[:500], train_y[:500])\n",
    "    accuracy = knn.score(test_x, test_y)\n",
    "    acc[i] = accuracy\n",
    "    if accuracy > best_accr:\n",
    "        best_accr = accuracy\n",
    "        best_order = j\n",
    "print(\"Best accuracy:{} Minkowsi Order:{}\".format(best_accr,best_order))\n",
    "plt.plot(n,acc)\n",
    "plt.xlabel(\"Order(P)\")\n",
    "plt.ylabel(\"Accuracy\")"
   ]
  },
  {
   "cell_type": "markdown",
   "metadata": {},
   "source": [
    "### Part 1.2:  Find the 9s using Decision Tree\n"
   ]
  },
  {
   "cell_type": "code",
   "execution_count": 58,
   "metadata": {},
   "outputs": [
    {
     "name": "stdout",
     "output_type": "stream",
     "text": [
      "Accuracy: 0.9259047619047619\n"
     ]
    }
   ],
   "source": [
    "from sklearn.tree import DecisionTreeClassifier\n",
    "DTC = DecisionTreeClassifier(criterion=\"gini\",max_depth=3)\n",
    "DTC.fit(train_x[:10000], train_y[:10000])\n",
    "print(\"Accuracy: {}\".format(DTC.score(test_x,test_y)))"
   ]
  },
  {
   "cell_type": "markdown",
   "metadata": {},
   "source": [
    "### Part 1.3:  Find the 9s using Random Forest\n"
   ]
  },
  {
   "cell_type": "code",
   "execution_count": 41,
   "metadata": {},
   "outputs": [
    {
     "name": "stdout",
     "output_type": "stream",
     "text": [
      "Accuracy: 0.902952380952381\n"
     ]
    }
   ],
   "source": [
    "from sklearn.ensemble import RandomForestClassifier\n",
    "RFC = RandomForestClassifier(n_estimators=100, max_depth=3) #gini is default estimator\n",
    "RFC.fit(nineX[:10000],nineY[:10000])\n",
    "print(\"Accuracy: {}\".format(RFC.score(test_x,test_y)))"
   ]
  },
  {
   "cell_type": "markdown",
   "metadata": {},
   "source": [
    "### Part 1.x:  Just wanted to try support vector classifier"
   ]
  },
  {
   "cell_type": "code",
   "execution_count": 57,
   "metadata": {
    "scrolled": true
   },
   "outputs": [
    {
     "name": "stdout",
     "output_type": "stream",
     "text": [
      "Accuracy: 0.902\n"
     ]
    }
   ],
   "source": [
    "from sklearn.svm import SVC\n",
    "_SVC = SVC(gamma='auto')\n",
    "_SVC.fit(nineX[:1000], nineY[:1000])\n",
    "print(\"Accuracy: {}\".format(_SVC.score(test_x,test_y)))"
   ]
  },
  {
   "cell_type": "markdown",
   "metadata": {},
   "source": [
    "### Part 1 Findings\n",
    "*  KNN had good accuracy performance\n",
    "*  No discernable accuracy difference between Decision Tree and Random Forest, I think because of binary classification nature?\n",
    "*  Computation slowed on KNN with P=3 order\n"
   ]
  },
  {
   "cell_type": "markdown",
   "metadata": {},
   "source": [
    "## Part 2 - All Digits\n",
    "1. First forget about the labels and run the k-means algorithm to find whether there is an\n",
    "underlying patterns. So, first find the k clusters (here is obviously 10 clusters). Then\n",
    "look at their labels and find the accuracy. By doing this you are turning a supervised\n",
    "learning into an unsupervised learning!\n",
    "2. Find the digits using K-Nearest neighbours for Minkowski metric of order (1, 2, 3).\n",
    "3. Find the digits using Decision tree.\n",
    "4. Find the digits using Random Forests.\n",
    "5. Comment on any significant difference between your results for the binary classifier\n",
    "vs multi-class classifiers."
   ]
  },
  {
   "cell_type": "markdown",
   "metadata": {},
   "source": [
    "### Part 2.1 - K-Means Clustering"
   ]
  },
  {
   "cell_type": "code",
   "execution_count": 3,
   "metadata": {},
   "outputs": [],
   "source": [
    "from sklearn.cluster import KMeans\n",
    "x = mnist['data'][:1000]\n",
    "y = mnist['target'][:1000]\n",
    "km = KMeans(n_clusters=10, random_state=0)\n",
    "clusters = km.fit_predict(x)"
   ]
  },
  {
   "cell_type": "code",
   "execution_count": 4,
   "metadata": {},
   "outputs": [
    {
     "name": "stdout",
     "output_type": "stream",
     "text": [
      "Cluster Shape:(10, 784)\n"
     ]
    }
   ],
   "source": [
    "print(\"Cluster Shape:{}\".format(km.cluster_centers_.shape))"
   ]
  },
  {
   "cell_type": "code",
   "execution_count": 19,
   "metadata": {},
   "outputs": [
    {
     "data": {
      "text/plain": [
       "0.576"
      ]
     },
     "execution_count": 19,
     "metadata": {},
     "output_type": "execute_result"
    }
   ],
   "source": [
    "#Trick to find most popular label\n",
    "#Based on Python Data Science Handbook\n",
    "#https://jakevdp.github.io/PythonDataScienceHandbook/05.11-k-means.html\n",
    "from scipy.stats import mode\n",
    "labels = np.zeros_like(clusters)\n",
    "for i in range(10):\n",
    "    mask = (clusters == i)\n",
    "    labels[mask] = mode(y[mask])[0]\n",
    "metrics.accuracy_score(y, labels)"
   ]
  },
  {
   "cell_type": "markdown",
   "metadata": {},
   "source": [
    "***** Abtin, I'm stuck on aligning the actual vs. cluster labels?  This is not good accuracy with method to find mode of corresponding indices between predicted and actual labels.  I tried some manual array work too, but could not figure out a path?"
   ]
  },
  {
   "cell_type": "markdown",
   "metadata": {},
   "source": [
    "### Part 2.2 - KNN"
   ]
  },
  {
   "cell_type": "code",
   "execution_count": 22,
   "metadata": {},
   "outputs": [
    {
     "name": "stdout",
     "output_type": "stream",
     "text": [
      "Best accuracy:0.8112380952380952 Minkowsi Order:3\n"
     ]
    },
    {
     "data": {
      "text/plain": [
       "Text(0, 0.5, 'Accuracy')"
      ]
     },
     "execution_count": 22,
     "metadata": {},
     "output_type": "execute_result"
    },
    {
     "data": {
      "image/png": "[encoded data removed]",
      "text/plain": [
       "<Figure size 432x288 with 1 Axes>"
      ]
     },
     "metadata": {
      "needs_background": "light"
     },
     "output_type": "display_data"
    }
   ],
   "source": [
    "from sklearn.neighbors import KNeighborsClassifier\n",
    "TEST_SPLIT = 0.15\n",
    "train_x, test_x, train_y, test_y = train_test_split(mnist['data'], mnist['target'], test_size=TEST_SPLIT)\n",
    "\n",
    "best_accr = 0\n",
    "best_order = 0\n",
    "n = np.array([1,2,3])\n",
    "acc = np.zeros(len(n))\n",
    "for i,j in enumerate(n):\n",
    "    knn = KNeighborsClassifier(n_neighbors=10,p=j)\n",
    "    knn.fit(train_x[:500], train_y[:500])\n",
    "    accuracy = knn.score(test_x, test_y)\n",
    "    acc[i] = accuracy\n",
    "    if accuracy > best_accr:\n",
    "        best_accr = accuracy\n",
    "        best_order = j\n",
    "print(\"Best accuracy:{} Minkowsi Order:{}\".format(best_accr,best_order))\n",
    "plt.plot(n,acc)\n",
    "plt.xlabel(\"Order(P)\")\n",
    "plt.ylabel(\"Accuracy\")"
   ]
  },
  {
   "cell_type": "markdown",
   "metadata": {},
   "source": [
    "### Part 2.3 - Decision Tree"
   ]
  },
  {
   "cell_type": "code",
   "execution_count": 42,
   "metadata": {},
   "outputs": [
    {
     "name": "stdout",
     "output_type": "stream",
     "text": [
      "Accuracy: 0.9481904761904761\n"
     ]
    }
   ],
   "source": [
    "from sklearn.tree import DecisionTreeClassifier\n",
    "TEST_SPLIT = 0.15\n",
    "train_x, test_x, train_y, test_y = train_test_split(mnist['data'], mnist['target'], test_size=TEST_SPLIT)\n",
    "\n",
    "DTC = DecisionTreeClassifier(criterion=\"gini\",max_depth=5)\n",
    "DTC.fit(train_x[:10000], train_y[:10000])\n",
    "print(\"Accuracy: {}\".format(DTC.score(test_x,test_y)))"
   ]
  },
  {
   "cell_type": "markdown",
   "metadata": {},
   "source": [
    "### Part 2.4 - Random Forest"
   ]
  },
  {
   "cell_type": "code",
   "execution_count": 46,
   "metadata": {},
   "outputs": [
    {
     "name": "stdout",
     "output_type": "stream",
     "text": [
      "Accuracy: 0.9034285714285715\n"
     ]
    }
   ],
   "source": [
    "from sklearn.ensemble import RandomForestClassifier\n",
    "TEST_SPLIT = 0.15\n",
    "train_x, test_x, train_y, test_y = train_test_split(mnist['data'], mnist['target'], test_size=TEST_SPLIT)\n",
    "\n",
    "RFC = RandomForestClassifier(n_estimators=10, max_depth=10) #gini is default estimator\n",
    "RFC.fit(train_x[:10000],train_y[:10000])\n",
    "print(\"Accuracy: {}\".format(RFC.score(test_x,test_y)))"
   ]
  },
  {
   "cell_type": "markdown",
   "metadata": {},
   "source": [
    "### Conclusion\n",
    "* Most classifiers performed well.\n",
    "* With the SKLearn libraries for decision tree and random forest, how do we best determine target depth or split criteria?\n",
    "* Was expecting better accuracy from random forest, but surprisingly, decision tree performed similar, perhaps MNIST dataset is not advanced enough to challenge a decision tree?"
   ]
  },
  {
   "cell_type": "code",
   "execution_count": null,
   "metadata": {},
   "outputs": [],
   "source": []
  }
 ],
 "metadata": {
  "kernelspec": {
   "display_name": "Python [conda env:ds]",
   "language": "python",
   "name": "conda-env-ds-py"
  },
  "language_info": {
   "codemirror_mode": {
    "name": "ipython",
    "version": 3
   },
   "file_extension": ".py",
   "mimetype": "text/x-python",
   "name": "python",
   "nbconvert_exporter": "python",
   "pygments_lexer": "ipython3",
   "version": "3.7.3"
  }
 },
 "nbformat": 4,
 "nbformat_minor": 2
}
