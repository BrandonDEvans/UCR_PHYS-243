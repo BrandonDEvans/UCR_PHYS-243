{
 "cells": [
  {
   "cell_type": "markdown",
   "metadata": {},
   "source": [
    "## PHYS-243 Spring 2019 - Brandon Evans - Midterm\n",
    "#### Dr. Mobasher, TA Abtin Shahidi\n",
    "#### 14-May-2019, Revised 19-May-2019"
   ]
  },
  {
   "cell_type": "code",
   "execution_count": 316,
   "metadata": {
    "scrolled": true
   },
   "outputs": [],
   "source": [
    "import numpy as np\n",
    "import matplotlib.pyplot as plt\n",
    "import pandas as pd\n",
    "import seaborn as sns\n",
    "\n",
    "from sklearn.preprocessing import LabelEncoder\n",
    "from sklearn.model_selection import train_test_split\n",
    "from sklearn.neighbors import KNeighborsClassifier\n",
    "from sklearn import metrics\n",
    "\n",
    "from scipy.stats import zscore\n",
    "\n",
    "%matplotlib inline"
   ]
  },
  {
   "cell_type": "markdown",
   "metadata": {},
   "source": [
    "### Wine Dataset\n",
    "#### Assumptions/Expectations:\n",
    "*  Check the dataset README file\n",
    "*  Use Pandas because it has good CSV reader and I'm familiar\n",
    "*  No categorical input variables to label encode\n",
    "*  Treat output/response variable as categorical, not continuous"
   ]
  },
  {
   "cell_type": "markdown",
   "metadata": {},
   "source": [
    "### Step 1 - Get the dataset"
   ]
  },
  {
   "cell_type": "code",
   "execution_count": 7,
   "metadata": {
    "scrolled": false
   },
   "outputs": [
    {
     "name": "stdout",
     "output_type": "stream",
     "text": [
      "  % Total    % Received % Xferd  Average Speed   Time    Time     Time  Current\n",
      "                                 Dload  Upload   Total   Spent    Left  Speed\n",
      "100 84199  100 84199    0     0   126k      0 --:--:-- --:--:-- --:--:--  126k\n"
     ]
    }
   ],
   "source": [
    "#Fetch/Extract data\n",
    "!curl -O https://raw.githubusercontent.com/abtinshahidi/Foundation_applied_machine_learning/master/midterm/data_sets/4_wine_quality/winequality-red.csv\n",
    "    "
   ]
  },
  {
   "cell_type": "markdown",
   "metadata": {},
   "source": [
    "\n",
    "\n",
    "\n",
    "##### Attribute information:\n",
    "For more information, read [Cortez et al., 2009].\n",
    "\n",
    "`   Input variables (based on physicochemical tests):\n",
    "   1 - fixed acidity\n",
    "   2 - volatile acidity\n",
    "   3 - citric acid\n",
    "   4 - residual sugar\n",
    "   5 - chlorides\n",
    "   6 - free sulfur dioxide\n",
    "   7 - total sulfur dioxide\n",
    "   8 - density\n",
    "   9 - pH\n",
    "   10 - sulphates\n",
    "   11 - alcohol\n",
    "   Output variable (based on sensory data): \n",
    "   12 - quality (score between 0 and 10)`\n"
   ]
  },
  {
   "cell_type": "code",
   "execution_count": 10,
   "metadata": {
    "scrolled": true
   },
   "outputs": [],
   "source": [
    "#Preview some data\n",
    "CSV_FILE = 'winequality-red.csv'\n",
    "df = pd.read_csv(CSV_FILE, delimiter=';')"
   ]
  },
  {
   "cell_type": "code",
   "execution_count": 11,
   "metadata": {
    "scrolled": true
   },
   "outputs": [
    {
     "data": {
      "text/html": [
       "<div>\n",
       "<style scoped>\n",
       "    .dataframe tbody tr th:only-of-type {\n",
       "        vertical-align: middle;\n",
       "    }\n",
       "\n",
       "    .dataframe tbody tr th {\n",
       "        vertical-align: top;\n",
       "    }\n",
       "\n",
       "    .dataframe thead th {\n",
       "        text-align: right;\n",
       "    }\n",
       "</style>\n",
       "<table border=\"1\" class=\"dataframe\">\n",
       "  <thead>\n",
       "    <tr style=\"text-align: right;\">\n",
       "      <th></th>\n",
       "      <th>fixed acidity</th>\n",
       "      <th>volatile acidity</th>\n",
       "      <th>citric acid</th>\n",
       "      <th>residual sugar</th>\n",
       "      <th>chlorides</th>\n",
       "      <th>free sulfur dioxide</th>\n",
       "      <th>total sulfur dioxide</th>\n",
       "      <th>density</th>\n",
       "      <th>pH</th>\n",
       "      <th>sulphates</th>\n",
       "      <th>alcohol</th>\n",
       "      <th>quality</th>\n",
       "    </tr>\n",
       "  </thead>\n",
       "  <tbody>\n",
       "    <tr>\n",
       "      <th>0</th>\n",
       "      <td>7.4</td>\n",
       "      <td>0.70</td>\n",
       "      <td>0.00</td>\n",
       "      <td>1.9</td>\n",
       "      <td>0.076</td>\n",
       "      <td>11.0</td>\n",
       "      <td>34.0</td>\n",
       "      <td>0.9978</td>\n",
       "      <td>3.51</td>\n",
       "      <td>0.56</td>\n",
       "      <td>9.4</td>\n",
       "      <td>5</td>\n",
       "    </tr>\n",
       "    <tr>\n",
       "      <th>1</th>\n",
       "      <td>7.8</td>\n",
       "      <td>0.88</td>\n",
       "      <td>0.00</td>\n",
       "      <td>2.6</td>\n",
       "      <td>0.098</td>\n",
       "      <td>25.0</td>\n",
       "      <td>67.0</td>\n",
       "      <td>0.9968</td>\n",
       "      <td>3.20</td>\n",
       "      <td>0.68</td>\n",
       "      <td>9.8</td>\n",
       "      <td>5</td>\n",
       "    </tr>\n",
       "    <tr>\n",
       "      <th>2</th>\n",
       "      <td>7.8</td>\n",
       "      <td>0.76</td>\n",
       "      <td>0.04</td>\n",
       "      <td>2.3</td>\n",
       "      <td>0.092</td>\n",
       "      <td>15.0</td>\n",
       "      <td>54.0</td>\n",
       "      <td>0.9970</td>\n",
       "      <td>3.26</td>\n",
       "      <td>0.65</td>\n",
       "      <td>9.8</td>\n",
       "      <td>5</td>\n",
       "    </tr>\n",
       "    <tr>\n",
       "      <th>3</th>\n",
       "      <td>11.2</td>\n",
       "      <td>0.28</td>\n",
       "      <td>0.56</td>\n",
       "      <td>1.9</td>\n",
       "      <td>0.075</td>\n",
       "      <td>17.0</td>\n",
       "      <td>60.0</td>\n",
       "      <td>0.9980</td>\n",
       "      <td>3.16</td>\n",
       "      <td>0.58</td>\n",
       "      <td>9.8</td>\n",
       "      <td>6</td>\n",
       "    </tr>\n",
       "    <tr>\n",
       "      <th>4</th>\n",
       "      <td>7.4</td>\n",
       "      <td>0.70</td>\n",
       "      <td>0.00</td>\n",
       "      <td>1.9</td>\n",
       "      <td>0.076</td>\n",
       "      <td>11.0</td>\n",
       "      <td>34.0</td>\n",
       "      <td>0.9978</td>\n",
       "      <td>3.51</td>\n",
       "      <td>0.56</td>\n",
       "      <td>9.4</td>\n",
       "      <td>5</td>\n",
       "    </tr>\n",
       "  </tbody>\n",
       "</table>\n",
       "</div>"
      ],
      "text/plain": [
       "   fixed acidity  volatile acidity  citric acid  residual sugar  chlorides  \\\n",
       "0            7.4              0.70         0.00             1.9      0.076   \n",
       "1            7.8              0.88         0.00             2.6      0.098   \n",
       "2            7.8              0.76         0.04             2.3      0.092   \n",
       "3           11.2              0.28         0.56             1.9      0.075   \n",
       "4            7.4              0.70         0.00             1.9      0.076   \n",
       "\n",
       "   free sulfur dioxide  total sulfur dioxide  density    pH  sulphates  \\\n",
       "0                 11.0                  34.0   0.9978  3.51       0.56   \n",
       "1                 25.0                  67.0   0.9968  3.20       0.68   \n",
       "2                 15.0                  54.0   0.9970  3.26       0.65   \n",
       "3                 17.0                  60.0   0.9980  3.16       0.58   \n",
       "4                 11.0                  34.0   0.9978  3.51       0.56   \n",
       "\n",
       "   alcohol  quality  \n",
       "0      9.4        5  \n",
       "1      9.8        5  \n",
       "2      9.8        5  \n",
       "3      9.8        6  \n",
       "4      9.4        5  "
      ]
     },
     "execution_count": 11,
     "metadata": {},
     "output_type": "execute_result"
    }
   ],
   "source": [
    "df.head()"
   ]
  },
  {
   "cell_type": "markdown",
   "metadata": {},
   "source": [
    "### Step 2 - Data Inspect/Clean - How does data look?  Any crazy ranges or deviations that might suggest data errors.  Any missing data we need to figure out a strategy to fill or omit?"
   ]
  },
  {
   "cell_type": "code",
   "execution_count": 12,
   "metadata": {
    "scrolled": true
   },
   "outputs": [
    {
     "data": {
      "text/html": [
       "<div>\n",
       "<style scoped>\n",
       "    .dataframe tbody tr th:only-of-type {\n",
       "        vertical-align: middle;\n",
       "    }\n",
       "\n",
       "    .dataframe tbody tr th {\n",
       "        vertical-align: top;\n",
       "    }\n",
       "\n",
       "    .dataframe thead th {\n",
       "        text-align: right;\n",
       "    }\n",
       "</style>\n",
       "<table border=\"1\" class=\"dataframe\">\n",
       "  <thead>\n",
       "    <tr style=\"text-align: right;\">\n",
       "      <th></th>\n",
       "      <th>fixed acidity</th>\n",
       "      <th>volatile acidity</th>\n",
       "      <th>citric acid</th>\n",
       "      <th>residual sugar</th>\n",
       "      <th>chlorides</th>\n",
       "      <th>free sulfur dioxide</th>\n",
       "      <th>total sulfur dioxide</th>\n",
       "      <th>density</th>\n",
       "      <th>pH</th>\n",
       "      <th>sulphates</th>\n",
       "      <th>alcohol</th>\n",
       "      <th>quality</th>\n",
       "    </tr>\n",
       "  </thead>\n",
       "  <tbody>\n",
       "    <tr>\n",
       "      <th>count</th>\n",
       "      <td>1599.000000</td>\n",
       "      <td>1599.000000</td>\n",
       "      <td>1599.000000</td>\n",
       "      <td>1599.000000</td>\n",
       "      <td>1599.000000</td>\n",
       "      <td>1599.000000</td>\n",
       "      <td>1599.000000</td>\n",
       "      <td>1599.000000</td>\n",
       "      <td>1599.000000</td>\n",
       "      <td>1599.000000</td>\n",
       "      <td>1599.000000</td>\n",
       "      <td>1599.000000</td>\n",
       "    </tr>\n",
       "    <tr>\n",
       "      <th>mean</th>\n",
       "      <td>8.319637</td>\n",
       "      <td>0.527821</td>\n",
       "      <td>0.270976</td>\n",
       "      <td>2.538806</td>\n",
       "      <td>0.087467</td>\n",
       "      <td>15.874922</td>\n",
       "      <td>46.467792</td>\n",
       "      <td>0.996747</td>\n",
       "      <td>3.311113</td>\n",
       "      <td>0.658149</td>\n",
       "      <td>10.422983</td>\n",
       "      <td>5.636023</td>\n",
       "    </tr>\n",
       "    <tr>\n",
       "      <th>std</th>\n",
       "      <td>1.741096</td>\n",
       "      <td>0.179060</td>\n",
       "      <td>0.194801</td>\n",
       "      <td>1.409928</td>\n",
       "      <td>0.047065</td>\n",
       "      <td>10.460157</td>\n",
       "      <td>32.895324</td>\n",
       "      <td>0.001887</td>\n",
       "      <td>0.154386</td>\n",
       "      <td>0.169507</td>\n",
       "      <td>1.065668</td>\n",
       "      <td>0.807569</td>\n",
       "    </tr>\n",
       "    <tr>\n",
       "      <th>min</th>\n",
       "      <td>4.600000</td>\n",
       "      <td>0.120000</td>\n",
       "      <td>0.000000</td>\n",
       "      <td>0.900000</td>\n",
       "      <td>0.012000</td>\n",
       "      <td>1.000000</td>\n",
       "      <td>6.000000</td>\n",
       "      <td>0.990070</td>\n",
       "      <td>2.740000</td>\n",
       "      <td>0.330000</td>\n",
       "      <td>8.400000</td>\n",
       "      <td>3.000000</td>\n",
       "    </tr>\n",
       "    <tr>\n",
       "      <th>25%</th>\n",
       "      <td>7.100000</td>\n",
       "      <td>0.390000</td>\n",
       "      <td>0.090000</td>\n",
       "      <td>1.900000</td>\n",
       "      <td>0.070000</td>\n",
       "      <td>7.000000</td>\n",
       "      <td>22.000000</td>\n",
       "      <td>0.995600</td>\n",
       "      <td>3.210000</td>\n",
       "      <td>0.550000</td>\n",
       "      <td>9.500000</td>\n",
       "      <td>5.000000</td>\n",
       "    </tr>\n",
       "    <tr>\n",
       "      <th>50%</th>\n",
       "      <td>7.900000</td>\n",
       "      <td>0.520000</td>\n",
       "      <td>0.260000</td>\n",
       "      <td>2.200000</td>\n",
       "      <td>0.079000</td>\n",
       "      <td>14.000000</td>\n",
       "      <td>38.000000</td>\n",
       "      <td>0.996750</td>\n",
       "      <td>3.310000</td>\n",
       "      <td>0.620000</td>\n",
       "      <td>10.200000</td>\n",
       "      <td>6.000000</td>\n",
       "    </tr>\n",
       "    <tr>\n",
       "      <th>75%</th>\n",
       "      <td>9.200000</td>\n",
       "      <td>0.640000</td>\n",
       "      <td>0.420000</td>\n",
       "      <td>2.600000</td>\n",
       "      <td>0.090000</td>\n",
       "      <td>21.000000</td>\n",
       "      <td>62.000000</td>\n",
       "      <td>0.997835</td>\n",
       "      <td>3.400000</td>\n",
       "      <td>0.730000</td>\n",
       "      <td>11.100000</td>\n",
       "      <td>6.000000</td>\n",
       "    </tr>\n",
       "    <tr>\n",
       "      <th>max</th>\n",
       "      <td>15.900000</td>\n",
       "      <td>1.580000</td>\n",
       "      <td>1.000000</td>\n",
       "      <td>15.500000</td>\n",
       "      <td>0.611000</td>\n",
       "      <td>72.000000</td>\n",
       "      <td>289.000000</td>\n",
       "      <td>1.003690</td>\n",
       "      <td>4.010000</td>\n",
       "      <td>2.000000</td>\n",
       "      <td>14.900000</td>\n",
       "      <td>8.000000</td>\n",
       "    </tr>\n",
       "  </tbody>\n",
       "</table>\n",
       "</div>"
      ],
      "text/plain": [
       "       fixed acidity  volatile acidity  citric acid  residual sugar  \\\n",
       "count    1599.000000       1599.000000  1599.000000     1599.000000   \n",
       "mean        8.319637          0.527821     0.270976        2.538806   \n",
       "std         1.741096          0.179060     0.194801        1.409928   \n",
       "min         4.600000          0.120000     0.000000        0.900000   \n",
       "25%         7.100000          0.390000     0.090000        1.900000   \n",
       "50%         7.900000          0.520000     0.260000        2.200000   \n",
       "75%         9.200000          0.640000     0.420000        2.600000   \n",
       "max        15.900000          1.580000     1.000000       15.500000   \n",
       "\n",
       "         chlorides  free sulfur dioxide  total sulfur dioxide      density  \\\n",
       "count  1599.000000          1599.000000           1599.000000  1599.000000   \n",
       "mean      0.087467            15.874922             46.467792     0.996747   \n",
       "std       0.047065            10.460157             32.895324     0.001887   \n",
       "min       0.012000             1.000000              6.000000     0.990070   \n",
       "25%       0.070000             7.000000             22.000000     0.995600   \n",
       "50%       0.079000            14.000000             38.000000     0.996750   \n",
       "75%       0.090000            21.000000             62.000000     0.997835   \n",
       "max       0.611000            72.000000            289.000000     1.003690   \n",
       "\n",
       "                pH    sulphates      alcohol      quality  \n",
       "count  1599.000000  1599.000000  1599.000000  1599.000000  \n",
       "mean      3.311113     0.658149    10.422983     5.636023  \n",
       "std       0.154386     0.169507     1.065668     0.807569  \n",
       "min       2.740000     0.330000     8.400000     3.000000  \n",
       "25%       3.210000     0.550000     9.500000     5.000000  \n",
       "50%       3.310000     0.620000    10.200000     6.000000  \n",
       "75%       3.400000     0.730000    11.100000     6.000000  \n",
       "max       4.010000     2.000000    14.900000     8.000000  "
      ]
     },
     "execution_count": 12,
     "metadata": {},
     "output_type": "execute_result"
    }
   ],
   "source": [
    "df.describe()"
   ]
  },
  {
   "cell_type": "code",
   "execution_count": 26,
   "metadata": {
    "scrolled": true
   },
   "outputs": [
    {
     "data": {
      "text/plain": [
       "fixed acidity           0\n",
       "volatile acidity        0\n",
       "citric acid             0\n",
       "residual sugar          0\n",
       "chlorides               0\n",
       "free sulfur dioxide     0\n",
       "total sulfur dioxide    0\n",
       "density                 0\n",
       "pH                      0\n",
       "sulphates               0\n",
       "alcohol                 0\n",
       "quality                 0\n",
       "dtype: int64"
      ]
     },
     "execution_count": 26,
     "metadata": {},
     "output_type": "execute_result"
    }
   ],
   "source": [
    "#Any null values?\n",
    "df.isnull().sum()"
   ]
  },
  {
   "cell_type": "markdown",
   "metadata": {},
   "source": [
    "### Step 3 - Explore, get to know the data..."
   ]
  },
  {
   "cell_type": "code",
   "execution_count": 24,
   "metadata": {
    "scrolled": true
   },
   "outputs": [
    {
     "data": {
      "text/plain": [
       "<matplotlib.collections.PathCollection at 0x120e484a8>"
      ]
     },
     "execution_count": 24,
     "metadata": {},
     "output_type": "execute_result"
    },
    {
     "data": {
      "image/png": "[encoded data removed]",
      "text/plain": [
       "<Figure size 432x288 with 1 Axes>"
      ]
     },
     "metadata": {
      "needs_background": "light"
     },
     "output_type": "display_data"
    }
   ],
   "source": [
    "plt.scatter(df['fixed acidity'],df['quality'])"
   ]
  },
  {
   "cell_type": "code",
   "execution_count": 25,
   "metadata": {
    "scrolled": true
   },
   "outputs": [
    {
     "data": {
      "text/plain": [
       "<matplotlib.collections.PathCollection at 0x120f53fd0>"
      ]
     },
     "execution_count": 25,
     "metadata": {},
     "output_type": "execute_result"
    },
    {
     "data": {
      "image/png": "[encoded data removed]",
      "text/plain": [
       "<Figure size 432x288 with 1 Axes>"
      ]
     },
     "metadata": {
      "needs_background": "light"
     },
     "output_type": "display_data"
    }
   ],
   "source": [
    "plt.scatter(df['alcohol'],df['quality'])"
   ]
  },
  {
   "cell_type": "code",
   "execution_count": 38,
   "metadata": {
    "scrolled": true
   },
   "outputs": [
    {
     "data": {
      "text/plain": [
       "array([[<matplotlib.axes._subplots.AxesSubplot object at 0x1217bcbe0>,\n",
       "        <matplotlib.axes._subplots.AxesSubplot object at 0x1218e2cc0>,\n",
       "        <matplotlib.axes._subplots.AxesSubplot object at 0x121901278>],\n",
       "       [<matplotlib.axes._subplots.AxesSubplot object at 0x1219277f0>,\n",
       "        <matplotlib.axes._subplots.AxesSubplot object at 0x12194ed68>,\n",
       "        <matplotlib.axes._subplots.AxesSubplot object at 0x121980320>],\n",
       "       [<matplotlib.axes._subplots.AxesSubplot object at 0x1219a7898>,\n",
       "        <matplotlib.axes._subplots.AxesSubplot object at 0x1219cfe48>,\n",
       "        <matplotlib.axes._subplots.AxesSubplot object at 0x1219cfe80>],\n",
       "       [<matplotlib.axes._subplots.AxesSubplot object at 0x121a27940>,\n",
       "        <matplotlib.axes._subplots.AxesSubplot object at 0x121a4feb8>,\n",
       "        <matplotlib.axes._subplots.AxesSubplot object at 0x121a7f470>]],\n",
       "      dtype=object)"
      ]
     },
     "execution_count": 38,
     "metadata": {},
     "output_type": "execute_result"
    },
    {
     "data": {
      "image/png": "[encoded data removed]",
      "text/plain": [
       "<Figure size 432x288 with 12 Axes>"
      ]
     },
     "metadata": {
      "needs_background": "light"
     },
     "output_type": "display_data"
    }
   ],
   "source": [
    "df.hist(bins=10)"
   ]
  },
  {
   "cell_type": "code",
   "execution_count": 39,
   "metadata": {
    "scrolled": true
   },
   "outputs": [
    {
     "data": {
      "text/plain": [
       "<matplotlib.axes._subplots.AxesSubplot at 0x121cb6278>"
      ]
     },
     "execution_count": 39,
     "metadata": {},
     "output_type": "execute_result"
    },
    {
     "data": {
      "image/png": "[encoded data removed]",
      "text/plain": [
       "<Figure size 432x288 with 1 Axes>"
      ]
     },
     "metadata": {
      "needs_background": "light"
     },
     "output_type": "display_data"
    }
   ],
   "source": [
    "df['quality'].hist(bins=10)"
   ]
  },
  {
   "cell_type": "markdown",
   "metadata": {},
   "source": [
    "### Step 4 - Form some impressions of the data\n",
    "* Dataset looks clean\n",
    "* Quality output variable, I think because of measurement system, lacks any extreme scores; remember, the README says that (3) wine experts rated the sample and the median quality score was recorded.\n",
    "* I see several right-tailed distributions on input variables, my impression is that those variables are ideally zero or very low, I wonder how impactful of features they'll be, in moderation.\n",
    "* The README mentioned they used SVM with good success, but I don't think I should follow an already known approach and my first thought was to try KNN or Logistical Regression\n",
    "* For KNN, I think we should normalize features to give equal weight"
   ]
  },
  {
   "cell_type": "code",
   "execution_count": 324,
   "metadata": {
    "scrolled": true
   },
   "outputs": [
    {
     "name": "stdout",
     "output_type": "stream",
     "text": [
      "681\n",
      "638\n",
      "1599\n"
     ]
    }
   ],
   "source": [
    "#The amount of quality scores of 5 and 6 seems to dominate the dataset, concerns here:\n",
    "print(df['quality'][df.quality == 5].count())\n",
    "print(df['quality'][df.quality == 6].count())\n",
    "print(df['quality'].count())"
   ]
  },
  {
   "cell_type": "markdown",
   "metadata": {},
   "source": [
    "### Step 5 - Data split"
   ]
  },
  {
   "cell_type": "code",
   "execution_count": 243,
   "metadata": {
    "scrolled": true
   },
   "outputs": [],
   "source": [
    "#Remove output variable from input dataset\n",
    "data_x = df.drop(columns='quality')\n",
    "\n",
    "#Z-Normalize the input variables\n",
    "data_x_norm = data_x.apply(zscore)\n",
    "\n",
    "#Create a separate dataframe for output variable\n",
    "data_y = df['quality']\n",
    "\n",
    "TEST_SPLIT = 0.15\n",
    "\n",
    "#Shuffling is on by default, I didn't notice an order in the data set,\n",
    "#but I think shuffling is probably a good practice:\n",
    "train_x, test_x, train_y, test_y = train_test_split(data_x_norm, data_y , test_size=TEST_SPLIT)"
   ]
  },
  {
   "cell_type": "code",
   "execution_count": 258,
   "metadata": {
    "scrolled": false
   },
   "outputs": [
    {
     "name": "stdout",
     "output_type": "stream",
     "text": [
      "   fixed acidity  volatile acidity  citric acid  residual sugar  chlorides  \\\n",
      "0            7.4              0.70         0.00             1.9      0.076   \n",
      "1            7.8              0.88         0.00             2.6      0.098   \n",
      "2            7.8              0.76         0.04             2.3      0.092   \n",
      "3           11.2              0.28         0.56             1.9      0.075   \n",
      "4            7.4              0.70         0.00             1.9      0.076   \n",
      "\n",
      "   free sulfur dioxide  total sulfur dioxide  density    pH  sulphates  \\\n",
      "0                 11.0                  34.0   0.9978  3.51       0.56   \n",
      "1                 25.0                  67.0   0.9968  3.20       0.68   \n",
      "2                 15.0                  54.0   0.9970  3.26       0.65   \n",
      "3                 17.0                  60.0   0.9980  3.16       0.58   \n",
      "4                 11.0                  34.0   0.9978  3.51       0.56   \n",
      "\n",
      "   alcohol  quality  \n",
      "0      9.4        5  \n",
      "1      9.8        5  \n",
      "2      9.8        5  \n",
      "3      9.8        6  \n",
      "4      9.4        5  \n",
      "   fixed acidity  volatile acidity  citric acid  residual sugar  chlorides  \\\n",
      "0            7.4              0.70         0.00             1.9      0.076   \n",
      "1            7.8              0.88         0.00             2.6      0.098   \n",
      "2            7.8              0.76         0.04             2.3      0.092   \n",
      "3           11.2              0.28         0.56             1.9      0.075   \n",
      "4            7.4              0.70         0.00             1.9      0.076   \n",
      "\n",
      "   free sulfur dioxide  total sulfur dioxide  density    pH  sulphates  \\\n",
      "0                 11.0                  34.0   0.9978  3.51       0.56   \n",
      "1                 25.0                  67.0   0.9968  3.20       0.68   \n",
      "2                 15.0                  54.0   0.9970  3.26       0.65   \n",
      "3                 17.0                  60.0   0.9980  3.16       0.58   \n",
      "4                 11.0                  34.0   0.9978  3.51       0.56   \n",
      "\n",
      "   alcohol  \n",
      "0      9.4  \n",
      "1      9.8  \n",
      "2      9.8  \n",
      "3      9.8  \n",
      "4      9.4  \n",
      "Z-Norm\n",
      "   fixed acidity  volatile acidity  citric acid  residual sugar  chlorides  \\\n",
      "0      -0.528360          0.961877    -1.391472       -0.453218  -0.243707   \n",
      "1      -0.298547          1.967442    -1.391472        0.043416   0.223875   \n",
      "2      -0.298547          1.297065    -1.186070       -0.169427   0.096353   \n",
      "3       1.654856         -1.384443     1.484154       -0.453218  -0.264960   \n",
      "4      -0.528360          0.961877    -1.391472       -0.453218  -0.243707   \n",
      "\n",
      "   free sulfur dioxide  total sulfur dioxide   density        pH  sulphates  \\\n",
      "0            -0.466193             -0.379133  0.558274  1.288643  -0.579207   \n",
      "1             0.872638              0.624363  0.028261 -0.719933   0.128950   \n",
      "2            -0.083669              0.229047  0.134264 -0.331177  -0.048089   \n",
      "3             0.107592              0.411500  0.664277 -0.979104  -0.461180   \n",
      "4            -0.466193             -0.379133  0.558274  1.288643  -0.579207   \n",
      "\n",
      "    alcohol  \n",
      "0 -0.960246  \n",
      "1 -0.584777  \n",
      "2 -0.584777  \n",
      "3 -0.584777  \n",
      "4 -0.960246  \n",
      "Output\n",
      "0    5\n",
      "1    5\n",
      "2    5\n",
      "3    6\n",
      "4    5\n",
      "Name: quality, dtype: int64\n"
     ]
    }
   ],
   "source": [
    "#Check\n",
    "print(df.head())\n",
    "print(data_x.head())\n",
    "print(\"Z-Norm\")\n",
    "print(data_x_norm.head())\n",
    "print(\"Output\")\n",
    "print(data_y.head())"
   ]
  },
  {
   "cell_type": "code",
   "execution_count": 259,
   "metadata": {
    "scrolled": true
   },
   "outputs": [
    {
     "data": {
      "text/html": [
       "<div>\n",
       "<style scoped>\n",
       "    .dataframe tbody tr th:only-of-type {\n",
       "        vertical-align: middle;\n",
       "    }\n",
       "\n",
       "    .dataframe tbody tr th {\n",
       "        vertical-align: top;\n",
       "    }\n",
       "\n",
       "    .dataframe thead th {\n",
       "        text-align: right;\n",
       "    }\n",
       "</style>\n",
       "<table border=\"1\" class=\"dataframe\">\n",
       "  <thead>\n",
       "    <tr style=\"text-align: right;\">\n",
       "      <th></th>\n",
       "      <th>fixed acidity</th>\n",
       "      <th>volatile acidity</th>\n",
       "      <th>citric acid</th>\n",
       "      <th>residual sugar</th>\n",
       "      <th>chlorides</th>\n",
       "      <th>free sulfur dioxide</th>\n",
       "      <th>total sulfur dioxide</th>\n",
       "      <th>density</th>\n",
       "      <th>pH</th>\n",
       "      <th>sulphates</th>\n",
       "      <th>alcohol</th>\n",
       "    </tr>\n",
       "  </thead>\n",
       "  <tbody>\n",
       "    <tr>\n",
       "      <th>846</th>\n",
       "      <td>-1.102890</td>\n",
       "      <td>0.626688</td>\n",
       "      <td>-0.313113</td>\n",
       "      <td>-0.524166</td>\n",
       "      <td>-0.137438</td>\n",
       "      <td>-0.179300</td>\n",
       "      <td>-0.470360</td>\n",
       "      <td>0.075962</td>\n",
       "      <td>1.806985</td>\n",
       "      <td>0.010924</td>\n",
       "      <td>-0.584777</td>\n",
       "    </tr>\n",
       "    <tr>\n",
       "      <th>552</th>\n",
       "      <td>0.678154</td>\n",
       "      <td>-0.378878</td>\n",
       "      <td>-0.159061</td>\n",
       "      <td>0.114364</td>\n",
       "      <td>0.096353</td>\n",
       "      <td>-0.179300</td>\n",
       "      <td>-0.075043</td>\n",
       "      <td>0.664277</td>\n",
       "      <td>-1.238276</td>\n",
       "      <td>0.483029</td>\n",
       "      <td>-0.397043</td>\n",
       "    </tr>\n",
       "    <tr>\n",
       "      <th>319</th>\n",
       "      <td>0.735607</td>\n",
       "      <td>1.352930</td>\n",
       "      <td>-0.775267</td>\n",
       "      <td>0.256260</td>\n",
       "      <td>-0.116184</td>\n",
       "      <td>1.350792</td>\n",
       "      <td>0.837226</td>\n",
       "      <td>1.008786</td>\n",
       "      <td>-0.072005</td>\n",
       "      <td>-0.107102</td>\n",
       "      <td>-0.021574</td>\n",
       "    </tr>\n",
       "    <tr>\n",
       "      <th>392</th>\n",
       "      <td>0.678154</td>\n",
       "      <td>-0.881661</td>\n",
       "      <td>1.278752</td>\n",
       "      <td>-0.382271</td>\n",
       "      <td>-0.116184</td>\n",
       "      <td>-0.944346</td>\n",
       "      <td>-0.622404</td>\n",
       "      <td>0.664277</td>\n",
       "      <td>-0.849519</td>\n",
       "      <td>-0.874272</td>\n",
       "      <td>-0.866379</td>\n",
       "    </tr>\n",
       "    <tr>\n",
       "      <th>1423</th>\n",
       "      <td>-1.102890</td>\n",
       "      <td>0.012176</td>\n",
       "      <td>-0.929318</td>\n",
       "      <td>0.965737</td>\n",
       "      <td>0.755218</td>\n",
       "      <td>-0.179300</td>\n",
       "      <td>-0.470360</td>\n",
       "      <td>0.028261</td>\n",
       "      <td>1.223850</td>\n",
       "      <td>0.069937</td>\n",
       "      <td>0.541630</td>\n",
       "    </tr>\n",
       "  </tbody>\n",
       "</table>\n",
       "</div>"
      ],
      "text/plain": [
       "      fixed acidity  volatile acidity  citric acid  residual sugar  chlorides  \\\n",
       "846       -1.102890          0.626688    -0.313113       -0.524166  -0.137438   \n",
       "552        0.678154         -0.378878    -0.159061        0.114364   0.096353   \n",
       "319        0.735607          1.352930    -0.775267        0.256260  -0.116184   \n",
       "392        0.678154         -0.881661     1.278752       -0.382271  -0.116184   \n",
       "1423      -1.102890          0.012176    -0.929318        0.965737   0.755218   \n",
       "\n",
       "      free sulfur dioxide  total sulfur dioxide   density        pH  \\\n",
       "846             -0.179300             -0.470360  0.075962  1.806985   \n",
       "552             -0.179300             -0.075043  0.664277 -1.238276   \n",
       "319              1.350792              0.837226  1.008786 -0.072005   \n",
       "392             -0.944346             -0.622404  0.664277 -0.849519   \n",
       "1423            -0.179300             -0.470360  0.028261  1.223850   \n",
       "\n",
       "      sulphates   alcohol  \n",
       "846    0.010924 -0.584777  \n",
       "552    0.483029 -0.397043  \n",
       "319   -0.107102 -0.021574  \n",
       "392   -0.874272 -0.866379  \n",
       "1423   0.069937  0.541630  "
      ]
     },
     "execution_count": 259,
     "metadata": {},
     "output_type": "execute_result"
    }
   ],
   "source": [
    "#Check splits\n",
    "train_x.head()"
   ]
  },
  {
   "cell_type": "code",
   "execution_count": 260,
   "metadata": {
    "scrolled": true
   },
   "outputs": [
    {
     "data": {
      "text/html": [
       "<div>\n",
       "<style scoped>\n",
       "    .dataframe tbody tr th:only-of-type {\n",
       "        vertical-align: middle;\n",
       "    }\n",
       "\n",
       "    .dataframe tbody tr th {\n",
       "        vertical-align: top;\n",
       "    }\n",
       "\n",
       "    .dataframe thead th {\n",
       "        text-align: right;\n",
       "    }\n",
       "</style>\n",
       "<table border=\"1\" class=\"dataframe\">\n",
       "  <thead>\n",
       "    <tr style=\"text-align: right;\">\n",
       "      <th></th>\n",
       "      <th>fixed acidity</th>\n",
       "      <th>volatile acidity</th>\n",
       "      <th>citric acid</th>\n",
       "      <th>residual sugar</th>\n",
       "      <th>chlorides</th>\n",
       "      <th>free sulfur dioxide</th>\n",
       "      <th>total sulfur dioxide</th>\n",
       "      <th>density</th>\n",
       "      <th>pH</th>\n",
       "      <th>sulphates</th>\n",
       "      <th>alcohol</th>\n",
       "    </tr>\n",
       "  </thead>\n",
       "  <tbody>\n",
       "    <tr>\n",
       "      <th>263</th>\n",
       "      <td>-0.241094</td>\n",
       "      <td>-0.881661</td>\n",
       "      <td>-0.210412</td>\n",
       "      <td>-0.524166</td>\n",
       "      <td>-0.222453</td>\n",
       "      <td>0.681377</td>\n",
       "      <td>0.077002</td>\n",
       "      <td>-0.236746</td>\n",
       "      <td>-0.201591</td>\n",
       "      <td>0.069937</td>\n",
       "      <td>-1.054113</td>\n",
       "    </tr>\n",
       "    <tr>\n",
       "      <th>730</th>\n",
       "      <td>0.678154</td>\n",
       "      <td>0.123905</td>\n",
       "      <td>1.997658</td>\n",
       "      <td>-0.169427</td>\n",
       "      <td>6.366201</td>\n",
       "      <td>-0.370562</td>\n",
       "      <td>-0.287906</td>\n",
       "      <td>0.770280</td>\n",
       "      <td>-0.914312</td>\n",
       "      <td>0.069937</td>\n",
       "      <td>-0.772512</td>\n",
       "    </tr>\n",
       "    <tr>\n",
       "      <th>1275</th>\n",
       "      <td>-0.183641</td>\n",
       "      <td>1.045674</td>\n",
       "      <td>-0.261762</td>\n",
       "      <td>-0.169427</td>\n",
       "      <td>-0.264960</td>\n",
       "      <td>-0.274931</td>\n",
       "      <td>1.050089</td>\n",
       "      <td>0.070662</td>\n",
       "      <td>-0.460762</td>\n",
       "      <td>-0.697233</td>\n",
       "      <td>-0.866379</td>\n",
       "    </tr>\n",
       "    <tr>\n",
       "      <th>27</th>\n",
       "      <td>-0.241094</td>\n",
       "      <td>-0.546472</td>\n",
       "      <td>-0.313113</td>\n",
       "      <td>-0.666062</td>\n",
       "      <td>0.393905</td>\n",
       "      <td>-0.561823</td>\n",
       "      <td>-0.287906</td>\n",
       "      <td>-0.077742</td>\n",
       "      <td>-0.914312</td>\n",
       "      <td>1.486251</td>\n",
       "      <td>-0.866379</td>\n",
       "    </tr>\n",
       "    <tr>\n",
       "      <th>1251</th>\n",
       "      <td>-0.470907</td>\n",
       "      <td>0.291499</td>\n",
       "      <td>-0.672566</td>\n",
       "      <td>-0.240375</td>\n",
       "      <td>-0.222453</td>\n",
       "      <td>1.063900</td>\n",
       "      <td>0.411500</td>\n",
       "      <td>-0.236746</td>\n",
       "      <td>-0.201591</td>\n",
       "      <td>-0.402167</td>\n",
       "      <td>-0.584777</td>\n",
       "    </tr>\n",
       "  </tbody>\n",
       "</table>\n",
       "</div>"
      ],
      "text/plain": [
       "      fixed acidity  volatile acidity  citric acid  residual sugar  chlorides  \\\n",
       "263       -0.241094         -0.881661    -0.210412       -0.524166  -0.222453   \n",
       "730        0.678154          0.123905     1.997658       -0.169427   6.366201   \n",
       "1275      -0.183641          1.045674    -0.261762       -0.169427  -0.264960   \n",
       "27        -0.241094         -0.546472    -0.313113       -0.666062   0.393905   \n",
       "1251      -0.470907          0.291499    -0.672566       -0.240375  -0.222453   \n",
       "\n",
       "      free sulfur dioxide  total sulfur dioxide   density        pH  \\\n",
       "263              0.681377              0.077002 -0.236746 -0.201591   \n",
       "730             -0.370562             -0.287906  0.770280 -0.914312   \n",
       "1275            -0.274931              1.050089  0.070662 -0.460762   \n",
       "27              -0.561823             -0.287906 -0.077742 -0.914312   \n",
       "1251             1.063900              0.411500 -0.236746 -0.201591   \n",
       "\n",
       "      sulphates   alcohol  \n",
       "263    0.069937 -1.054113  \n",
       "730    0.069937 -0.772512  \n",
       "1275  -0.697233 -0.866379  \n",
       "27     1.486251 -0.866379  \n",
       "1251  -0.402167 -0.584777  "
      ]
     },
     "execution_count": 260,
     "metadata": {},
     "output_type": "execute_result"
    }
   ],
   "source": [
    "test_x.head()"
   ]
  },
  {
   "cell_type": "code",
   "execution_count": 261,
   "metadata": {
    "scrolled": true
   },
   "outputs": [
    {
     "data": {
      "text/plain": [
       "846     5\n",
       "552     6\n",
       "319     6\n",
       "392     5\n",
       "1423    4\n",
       "Name: quality, dtype: int64"
      ]
     },
     "execution_count": 261,
     "metadata": {},
     "output_type": "execute_result"
    }
   ],
   "source": [
    "train_y.head()"
   ]
  },
  {
   "cell_type": "code",
   "execution_count": 262,
   "metadata": {
    "scrolled": true
   },
   "outputs": [
    {
     "data": {
      "text/plain": [
       "263     5\n",
       "730     5\n",
       "1275    6\n",
       "27      5\n",
       "1251    5\n",
       "Name: quality, dtype: int64"
      ]
     },
     "execution_count": 262,
     "metadata": {},
     "output_type": "execute_result"
    }
   ],
   "source": [
    "test_y.head()"
   ]
  },
  {
   "cell_type": "markdown",
   "metadata": {},
   "source": [
    "### Step 6 - KNN Classifier\n"
   ]
  },
  {
   "cell_type": "code",
   "execution_count": 255,
   "metadata": {
    "scrolled": true
   },
   "outputs": [
    {
     "name": "stdout",
     "output_type": "stream",
     "text": [
      "Best accuracy:0.6333333333333333 Neighbors:1\n"
     ]
    },
    {
     "data": {
      "text/plain": [
       "Text(0, 0.5, 'Accuracy')"
      ]
     },
     "execution_count": 255,
     "metadata": {},
     "output_type": "execute_result"
    },
    {
     "data": {
      "image/png": "[encoded data removed]",
      "text/plain": [
       "<Figure size 432x288 with 1 Axes>"
      ]
     },
     "metadata": {
      "needs_background": "light"
     },
     "output_type": "display_data"
    }
   ],
   "source": [
    "#Let's interate and find best accuracy\n",
    "best_accr = 0\n",
    "best_neighbor = 0\n",
    "\n",
    "n = np.arange(1,30,2)\n",
    "acc = np.zeros(len(n))\n",
    "for i,j in enumerate(n):\n",
    "    knn = KNeighborsClassifier(n_neighbors=j)\n",
    "    knn.fit(train_x, train_y)\n",
    "    accuracy = knn.score(test_x, test_y)\n",
    "    acc[i] = accuracy\n",
    "    if accuracy > best_accr:\n",
    "        best_accr = accuracy\n",
    "        best_neighbor = j\n",
    "print(\"Best accuracy:{} Neighbors:{}\".format(best_accr,best_neighbor))\n",
    "plt.plot(n,acc)\n",
    "plt.xlabel(\"Neighbors\")\n",
    "plt.ylabel(\"Accuracy\")"
   ]
  },
  {
   "cell_type": "markdown",
   "metadata": {},
   "source": [
    "### KNN - Results\n",
    "* Before normalization, I was getting poor results from KNN classifier, 48-53% accuracy, depending on neighbors\n",
    "* Best accuracy after z-norm is 67%, with 1 neighbor, but I don't know how meaningful this is\n",
    "* Tried adjusting test/train split, and also Manhattan distance in KNN, no significant change\n",
    "* Could it be, we need to remove unimportant features?  But how?"
   ]
  },
  {
   "cell_type": "markdown",
   "metadata": {},
   "source": [
    "### Step 7 - SVM Classifier\n",
    "*  Try SVM to see if better accuracy than KNN"
   ]
  },
  {
   "cell_type": "code",
   "execution_count": 265,
   "metadata": {
    "scrolled": true
   },
   "outputs": [
    {
     "data": {
      "text/plain": [
       "0.6416666666666667"
      ]
     },
     "execution_count": 265,
     "metadata": {},
     "output_type": "execute_result"
    }
   ],
   "source": [
    "from sklearn.svm import SVC\n",
    "classifier = SVC(gamma='auto') #Tried auto and scale, but didn't think I should use scale, since already z-norm\n",
    "classifier.fit(train_x, train_y)\n",
    "#Predicting the Test Set\n",
    "classifier.score(test_x,test_y)"
   ]
  },
  {
   "cell_type": "markdown",
   "metadata": {},
   "source": [
    "### SVM Results\n",
    "*  Very similar to KNN, I still think features may be an issue\n",
    "*  Was also wondering about output variable, remember strong dataset with output of 5,6 could we somehow generalize wine quality and simplify prediction?  Like quality of 1,2,3?  Poor, Good, Great?  Asked another way... isn't a wine quality score of 1 to 10 a little too precise for a taster?"
   ]
  },
  {
   "cell_type": "markdown",
   "metadata": {},
   "source": [
    "### Step 8 - Final Adjustments to Get Better Accuracy"
   ]
  },
  {
   "cell_type": "code",
   "execution_count": 276,
   "metadata": {
    "scrolled": true
   },
   "outputs": [
    {
     "data": {
      "text/plain": [
       "<matplotlib.axes._subplots.AxesSubplot at 0x1a272f46a0>"
      ]
     },
     "execution_count": 276,
     "metadata": {},
     "output_type": "execute_result"
    },
    {
     "data": {
      "image/png": "[encoded data removed]",
      "text/plain": [
       "<Figure size 720x720 with 2 Axes>"
      ]
     },
     "metadata": {
      "needs_background": "light"
     },
     "output_type": "display_data"
    }
   ],
   "source": [
    "#Seaborn has a nice correlation matrix\n",
    "f,ax = plt.subplots(figsize=(10, 10))\n",
    "sns.heatmap(df.corr(), annot=True, linewidths=.5, fmt= '.2f',ax=ax)"
   ]
  },
  {
   "cell_type": "code",
   "execution_count": 280,
   "metadata": {
    "scrolled": true
   },
   "outputs": [],
   "source": [
    "#Could we try and remove the seemingly, low-impact input variables and retry our classifier?\n",
    "df_reduced = df.drop(columns=['residual sugar','free sulfur dioxide','pH','fixed acidity'])"
   ]
  },
  {
   "cell_type": "code",
   "execution_count": 285,
   "metadata": {
    "scrolled": true
   },
   "outputs": [
    {
     "data": {
      "text/plain": [
       "0.634375"
      ]
     },
     "execution_count": 285,
     "metadata": {},
     "output_type": "execute_result"
    }
   ],
   "source": [
    "#Let's retry\n",
    "data_x = df_reduced.drop(columns='quality')\n",
    "data_x_norm = data_x.apply(zscore)\n",
    "data_y = df_reduced['quality']\n",
    "TEST_SPLIT = 0.2\n",
    "\n",
    "train_x, test_x, train_y, test_y = train_test_split(data_x_norm, data_y , test_size=TEST_SPLIT)\n",
    "classifier = SVC(gamma='auto')\n",
    "classifier.fit(train_x, train_y)\n",
    "classifier.score(test_x,test_y)"
   ]
  },
  {
   "cell_type": "markdown",
   "metadata": {},
   "source": [
    "#### Reducing features didn't have meaningful impact, perhaps we try reshaping the output classes?"
   ]
  },
  {
   "cell_type": "code",
   "execution_count": 312,
   "metadata": {
    "scrolled": true
   },
   "outputs": [],
   "source": [
    "#Binning with Pandas\n",
    "quality_binned = pd.cut(df['quality'], (1,4,6,10), labels=[\"poor\", \"ok\", \"good\"])"
   ]
  },
  {
   "cell_type": "code",
   "execution_count": 313,
   "metadata": {
    "scrolled": true
   },
   "outputs": [
    {
     "data": {
      "text/plain": [
       "ok      1319\n",
       "good     217\n",
       "poor      63\n",
       "Name: quality, dtype: int64"
      ]
     },
     "execution_count": 313,
     "metadata": {},
     "output_type": "execute_result"
    }
   ],
   "source": [
    "#We created some simple wine quality classes\n",
    "quality_binned.value_counts()"
   ]
  },
  {
   "cell_type": "code",
   "execution_count": null,
   "metadata": {
    "scrolled": false
   },
   "outputs": [],
   "source": [
    "df.head(20)"
   ]
  },
  {
   "cell_type": "code",
   "execution_count": null,
   "metadata": {
    "scrolled": false
   },
   "outputs": [],
   "source": [
    "quality_binned"
   ]
  },
  {
   "cell_type": "code",
   "execution_count": 319,
   "metadata": {
    "scrolled": true
   },
   "outputs": [],
   "source": [
    "#Encode the quality classes\n",
    "LE = LabelEncoder()\n",
    "LE.fit(quality_binned)\n",
    "norm_labels = LE.transform(quality_binned)"
   ]
  },
  {
   "cell_type": "code",
   "execution_count": 320,
   "metadata": {
    "scrolled": true
   },
   "outputs": [
    {
     "data": {
      "text/plain": [
       "array([1, 1, 1, ..., 1, 1, 1])"
      ]
     },
     "execution_count": 320,
     "metadata": {},
     "output_type": "execute_result"
    }
   ],
   "source": [
    "norm_labels"
   ]
  },
  {
   "cell_type": "code",
   "execution_count": 323,
   "metadata": {
    "scrolled": true
   },
   "outputs": [
    {
     "data": {
      "text/plain": [
       "0.865625"
      ]
     },
     "execution_count": 323,
     "metadata": {},
     "output_type": "execute_result"
    }
   ],
   "source": [
    "#Retrain\n",
    "data_x = df.drop(columns='quality')\n",
    "data_x_norm = data_x.apply(zscore)\n",
    "data_y = norm_labels\n",
    "TEST_SPLIT = 0.2\n",
    "\n",
    "train_x, test_x, train_y, test_y = train_test_split(data_x_norm, data_y , test_size=TEST_SPLIT)\n",
    "classifier = SVC(gamma='auto')\n",
    "classifier.fit(train_x, train_y)\n",
    "classifier.score(test_x,test_y)"
   ]
  },
  {
   "cell_type": "markdown",
   "metadata": {},
   "source": [
    "### Conclusion\n",
    "*  Whether it is frowned upon in data science community or not, or perhaps by your ultimate customer you're performance the analytical services for, I think simplifying the output variable to larger classes helps the classifer and provides more meaningful insight\n",
    "*  KNN and SVM had similar performance for this dataset\n",
    "*  Was surprised reducing some features had limited effect\n",
    "*  Curious to learn more about pros/cons of altering the output classes"
   ]
  },
  {
   "cell_type": "code",
   "execution_count": null,
   "metadata": {},
   "outputs": [],
   "source": []
  }
 ],
 "metadata": {
  "kernelspec": {
   "display_name": "Python [conda env:ds]",
   "language": "python",
   "name": "conda-env-ds-py"
  },
  "language_info": {
   "codemirror_mode": {
    "name": "ipython",
    "version": 3
   },
   "file_extension": ".py",
   "mimetype": "text/x-python",
   "name": "python",
   "nbconvert_exporter": "python",
   "pygments_lexer": "ipython3",
   "version": "3.7.3"
  }
 },
 "nbformat": 4,
 "nbformat_minor": 2
}
